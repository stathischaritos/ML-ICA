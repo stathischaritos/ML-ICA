{
 "metadata": {
  "name": ""
 },
 "nbformat": 3,
 "nbformat_minor": 0,
 "worksheets": [
  {
   "cells": [
    {
     "cell_type": "code",
     "collapsed": false,
     "input": [
      "%pylab inline\n",
      "\n",
      "# Signal generators\n",
      "def sawtooth(x, period=0.2, amp=1.0, phase=0.):\n",
      "    return (((x / period - phase - 0.5) % 1) - 0.5) * 2 * amp\n",
      "\n",
      "def sine_wave(x, period=0.2, amp=1.0, phase=0.):\n",
      "    return np.sin((x / period - phase) * 2 * np.pi) * amp\n",
      "\n",
      "def square_wave(x, period=0.2, amp=1.0, phase=0.):\n",
      "    return ((np.floor(2 * x / period - 2 * phase - 1) % 2 == 0).astype(float) - 0.5) * 2 * amp\n",
      "\n",
      "def triangle_wave(x, period=0.2, amp=1.0, phase=0.):\n",
      "    return (sawtooth(x, period, 1., phase) * square_wave(x, period, 1., phase) + 0.5) * 2 * amp\n",
      "\n",
      "def random_nonsingular_matrix(d=2):\n",
      "    \"\"\"\n",
      "    Generates a random nonsingular (invertible) matrix if shape d*d\n",
      "    \"\"\"\n",
      "    epsilon = 0.1\n",
      "    A = np.random.rand(d, d)\n",
      "    while abs(np.linalg.det(A)) < epsilon:\n",
      "        A = np.random.rand(d, d)\n",
      "    return A\n",
      "\n",
      "def plot_signals(X):\n",
      "    \"\"\"\n",
      "    Plot the signals contained in the rows of X.\n",
      "    \"\"\"\n",
      "    figure()\n",
      "    for i in range(X.shape[0]):\n",
      "        ax = plt.subplot(X.shape[0], 1, i + 1)\n",
      "        plot(X[i, :])\n",
      "        ax.set_xticks([])\n",
      "        ax.set_yticks([])"
     ],
     "language": "python",
     "metadata": {},
     "outputs": [
      {
       "output_type": "stream",
       "stream": "stdout",
       "text": [
        "Populating the interactive namespace from numpy and matplotlib\n"
       ]
      }
     ],
     "prompt_number": 3
    },
    {
     "cell_type": "code",
     "collapsed": false,
     "input": [
      "# Generate data\n",
      "num_sources = 5\n",
      "signal_length = 500\n",
      "t = linspace(0, 1, signal_length)\n",
      "#S = np.c_[sawtooth(t), sine_wave(t, 0.3), square_wave(t, 0.4), triangle_wave(t, 0.25), np.random.randn(t.size)].T\n",
      "S = np.c_[sine_wave(t, 0.3), square_wave(t, 0.4)].T\n",
      "\n",
      "plot_signals(S)\n",
      "print S"
     ],
     "language": "python",
     "metadata": {},
     "outputs": [
      {
       "output_type": "stream",
       "stream": "stdout",
       "text": [
        "[[ 0.          0.04195952  0.08384514  0.12558307  0.16709981  0.20832222\n",
        "   0.24917769  0.28959427  0.32950077  0.36882689  0.40750336  0.44546207\n",
        "   0.48263615  0.51896013  0.55437003  0.58880346  0.6221998   0.6545002\n",
        "   0.68564779  0.71558768  0.74426716  0.77163571  0.79764511  0.82224956\n",
        "   0.84540571  0.86707279  0.88721263  0.90578975  0.92277143  0.93812776\n",
        "   0.9518317   0.9638591   0.97418879  0.98280255  0.98968524  0.99482471\n",
        "   0.99821192  0.99984091  0.99970879  0.99781582  0.99416531  0.9887637\n",
        "   0.98162051  0.97274831  0.96216274  0.94988243  0.93592903  0.92032709\n",
        "   0.90310412  0.88429044  0.86391919  0.84202625  0.81865019  0.79383217\n",
        "   0.76761592  0.7400476   0.71117579  0.68105132  0.64972727  0.6172588\n",
        "   0.5837031   0.54911929  0.51356826  0.47711265  0.43981667  0.401746\n",
        "   0.3629677   0.32355009  0.28356257  0.2430756   0.20216048  0.16088928\n",
        "   0.11933469  0.07756991  0.0356685  -0.00629574 -0.04824888 -0.09011705\n",
        "  -0.13182648 -0.17330372 -0.2144757  -0.25526991 -0.29561449 -0.33543839\n",
        "  -0.37467145 -0.41324458 -0.45108982 -0.48814053 -0.52433143 -0.55959879\n",
        "  -0.59388049 -0.62711614 -0.6592472  -0.69021707 -0.71997122 -0.74845722\n",
        "  -0.77562491 -0.80142643 -0.82581634 -0.84875167 -0.87019203 -0.89009965\n",
        "  -0.90843947 -0.92517919 -0.94028932 -0.95374324 -0.96551726 -0.97559065\n",
        "  -0.98394564 -0.99056754 -0.99544468 -0.99856846 -0.99993339 -0.99953706\n",
        "  -0.99738016 -0.9934665  -0.98780298 -0.98039956 -0.97126928 -0.96042824\n",
        "  -0.94789551 -0.93369319 -0.91784628 -0.9003827  -0.8813332  -0.86073134\n",
        "  -0.83861341 -0.81501837 -0.78998777 -0.76356571 -0.73579871 -0.7067357\n",
        "  -0.67642786 -0.64492858 -0.61229333 -0.5785796  -0.54384678 -0.50815604\n",
        "  -0.47157024 -0.43415383 -0.39597271 -0.35709413 -0.31758658 -0.27751964\n",
        "  -0.23696388 -0.19599073 -0.15467238 -0.11308158 -0.07129161 -0.02937607\n",
        "   0.01259122  0.05453633  0.09638538  0.13806466  0.17950075  0.22062068\n",
        "   0.26135201  0.301623    0.34136272  0.38050117  0.41896941  0.45669969\n",
        "   0.49362555  0.52968195  0.56480538  0.59893397  0.63200762  0.66396806\n",
        "   0.694759    0.72432621  0.75261761  0.77958337  0.80517598  0.82935038\n",
        "   0.85206398  0.87327677  0.89295139  0.91105319  0.92755028  0.9424136\n",
        "   0.95561698  0.96713715  0.97695384  0.98504973  0.99141059  0.99602519\n",
        "   0.99888542  0.99998624  0.9993257   0.99690497  0.99272832  0.9868031\n",
        "   0.97913974  0.96975175  0.95865567  0.94587102  0.93142035  0.91532909\n",
        "   0.89762559  0.87834103  0.85750938  0.83516734  0.81135425  0.78611206\n",
        "   0.75948523  0.73152066  0.7022676   0.67177759  0.64010433  0.60730359\n",
        "   0.57343317  0.53855272  0.50272367  0.46600914  0.42847378  0.39018373\n",
        "   0.35120641  0.31161048  0.2714657   0.23084276  0.18981321  0.14844934\n",
        "   0.10682399  0.06501048  0.02308246 -0.01888621 -0.06082161 -0.10264989\n",
        "  -0.14429736 -0.18569067 -0.22675691 -0.26742375 -0.30761955 -0.34727351\n",
        "  -0.3863158  -0.42467764 -0.46229146 -0.49909101 -0.53501147 -0.56998958\n",
        "  -0.60396372 -0.63687405 -0.66866261 -0.6992734  -0.7286525  -0.75674817\n",
        "  -0.78351093 -0.80889362 -0.83285155 -0.85534252 -0.8763269  -0.89576774\n",
        "  -0.91363079 -0.9298846  -0.94450053 -0.95745284 -0.96871871 -0.9782783\n",
        "  -0.98611478 -0.99221433 -0.99656623 -0.99916279 -0.99999945 -0.99907473\n",
        "  -0.99639027 -0.99195079 -0.9857641  -0.97784112 -0.96819579 -0.9568451\n",
        "  -0.94380904 -0.92911058 -0.91277561 -0.8948329  -0.87531404 -0.85425343\n",
        "  -0.83168816 -0.80765797 -0.78220519 -0.75537465 -0.72721361 -0.69777167\n",
        "  -0.66710069 -0.6352547  -0.60228979 -0.56826401 -0.53323731 -0.49727138\n",
        "  -0.46042956 -0.42277675 -0.38437928 -0.34530476 -0.30562204 -0.265401\n",
        "  -0.22471249 -0.18362817 -0.14222042 -0.10056216 -0.05872678 -0.01678795\n",
        "   0.02518045  0.06710449  0.10891034  0.15052435  0.19187323  0.23288416\n",
        "   0.27348488  0.3136039   0.35317054  0.39211512  0.43036903  0.4678649\n",
        "   0.50453668  0.54031979  0.57515118  0.60896952  0.64171524  0.67333065\n",
        "   0.70376007  0.73294991  0.76084874  0.78740743  0.8125792   0.83631971\n",
        "   0.85858715  0.87934229  0.89854858  0.91617219  0.93218207  0.94655002\n",
        "   0.95925075  0.97026187  0.979564    0.98714074  0.99297875  0.99706776\n",
        "   0.99940055  0.99997303  0.99878417  0.99583607  0.99113394  0.98468604\n",
        "   0.97650374  0.96660145  0.9549966   0.94170965  0.926764    0.91018596\n",
        "   0.89200474  0.87225236  0.85096362  0.82817601  0.80392967  0.77826731\n",
        "   0.75123412  0.72287773  0.69324808  0.66239735  0.6303799   0.59725211\n",
        "   0.56307233  0.52790077  0.49179937  0.45483173  0.41706297  0.37855959\n",
        "   0.33938943  0.29962148  0.25932578  0.21857331  0.17743585  0.13598586\n",
        "   0.09429635  0.05244074  0.01049277 -0.03147369 -0.0733847  -0.11516646\n",
        "  -0.15674537 -0.19804819 -0.23900217 -0.27953518 -0.31957583 -0.35905357\n",
        "  -0.39789889 -0.43604336 -0.4734198  -0.50996236 -0.54560669 -0.58028999\n",
        "  -0.61395119 -0.64653099 -0.677972   -0.70821885 -0.73721826 -0.76491915\n",
        "  -0.79127273 -0.81623257 -0.83975473 -0.86179776 -0.88232283 -0.90129381\n",
        "  -0.91867727 -0.93444259 -0.948562   -0.96101064 -0.97176657 -0.98081086\n",
        "  -0.98812757 -0.99370382 -0.99752977 -0.9995987  -0.99990697 -0.99845401\n",
        "  -0.99524241 -0.9902778  -0.98356895 -0.97512765 -0.96496879 -0.95311026\n",
        "  -0.93957294 -0.92438067 -0.90756023 -0.88914122 -0.86915611 -0.84764008\n",
        "  -0.82463104 -0.80016951 -0.77429858 -0.74706382 -0.7185132  -0.68869701\n",
        "  -0.65766776 -0.62548011 -0.59219075 -0.55785832 -0.5225433  -0.48630787\n",
        "  -0.44921588 -0.41133265 -0.3727249  -0.33346065 -0.29360904 -0.25324028\n",
        "  -0.21242547 -0.1712365  -0.12974591 -0.0880268  -0.04615263 -0.00419717\n",
        "   0.03776568  0.07966201  0.12141803  0.16296018  0.2042153   0.24511072\n",
        "   0.2855744   0.32553508  0.36492238  0.4036669   0.44170042  0.47895593\n",
        "   0.51536782  0.55087196  0.5854058   0.61890853  0.65132112  0.68258648\n",
        "   0.71264956  0.74145739  0.76895924  0.79510666  0.81985359  0.84315645\n",
        "   0.8649742   0.8852684   0.90400331  0.92114593  0.93666606  0.95053638\n",
        "   0.96273243  0.97323276  0.98201885  0.98907524  0.99438949  0.99795225\n",
        "   0.99975723  0.99980127  0.99808428  0.99460929  0.98938242  0.98241287\n",
        "   0.97371292  0.96329789  0.95118613  0.93739898  0.92196071  0.90489852\n",
        "   0.88624247  0.8660254 ]\n",
        " [-1.         -1.         -1.         -1.         -1.         -1.         -1.\n",
        "  -1.         -1.         -1.         -1.         -1.         -1.         -1.\n",
        "  -1.         -1.         -1.         -1.         -1.         -1.         -1.\n",
        "  -1.         -1.         -1.         -1.         -1.         -1.         -1.\n",
        "  -1.         -1.         -1.         -1.         -1.         -1.         -1.\n",
        "  -1.         -1.         -1.         -1.         -1.         -1.         -1.\n",
        "  -1.         -1.         -1.         -1.         -1.         -1.         -1.\n",
        "  -1.         -1.         -1.         -1.         -1.         -1.         -1.\n",
        "  -1.         -1.         -1.         -1.         -1.         -1.         -1.\n",
        "  -1.         -1.         -1.         -1.         -1.         -1.         -1.\n",
        "  -1.         -1.         -1.         -1.         -1.         -1.         -1.\n",
        "  -1.         -1.         -1.         -1.         -1.         -1.         -1.\n",
        "  -1.         -1.         -1.         -1.         -1.         -1.         -1.\n",
        "  -1.         -1.         -1.         -1.         -1.         -1.         -1.\n",
        "  -1.         -1.          1.          1.          1.          1.          1.\n",
        "   1.          1.          1.          1.          1.          1.          1.\n",
        "   1.          1.          1.          1.          1.          1.          1.\n",
        "   1.          1.          1.          1.          1.          1.          1.\n",
        "   1.          1.          1.          1.          1.          1.          1.\n",
        "   1.          1.          1.          1.          1.          1.          1.\n",
        "   1.          1.          1.          1.          1.          1.          1.\n",
        "   1.          1.          1.          1.          1.          1.          1.\n",
        "   1.          1.          1.          1.          1.          1.          1.\n",
        "   1.          1.          1.          1.          1.          1.          1.\n",
        "   1.          1.          1.          1.          1.          1.          1.\n",
        "   1.          1.          1.          1.          1.          1.          1.\n",
        "   1.          1.          1.          1.          1.          1.          1.\n",
        "   1.          1.          1.          1.          1.          1.          1.\n",
        "   1.          1.          1.          1.         -1.         -1.         -1.\n",
        "  -1.         -1.         -1.         -1.         -1.         -1.         -1.\n",
        "  -1.         -1.         -1.         -1.         -1.         -1.         -1.\n",
        "  -1.         -1.         -1.         -1.         -1.         -1.         -1.\n",
        "  -1.         -1.         -1.         -1.         -1.         -1.         -1.\n",
        "  -1.         -1.         -1.         -1.         -1.         -1.         -1.\n",
        "  -1.         -1.         -1.         -1.         -1.         -1.         -1.\n",
        "  -1.         -1.         -1.         -1.         -1.         -1.         -1.\n",
        "  -1.         -1.         -1.         -1.         -1.         -1.         -1.\n",
        "  -1.         -1.         -1.         -1.         -1.         -1.         -1.\n",
        "  -1.         -1.         -1.         -1.         -1.         -1.         -1.\n",
        "  -1.         -1.         -1.         -1.         -1.         -1.         -1.\n",
        "  -1.         -1.         -1.         -1.         -1.         -1.         -1.\n",
        "  -1.         -1.         -1.         -1.         -1.         -1.         -1.\n",
        "  -1.         -1.         -1.         -1.         -1.         -1.          1.\n",
        "   1.          1.          1.          1.          1.          1.          1.\n",
        "   1.          1.          1.          1.          1.          1.          1.\n",
        "   1.          1.          1.          1.          1.          1.          1.\n",
        "   1.          1.          1.          1.          1.          1.          1.\n",
        "   1.          1.          1.          1.          1.          1.          1.\n",
        "   1.          1.          1.          1.          1.          1.          1.\n",
        "   1.          1.          1.          1.          1.          1.          1.\n",
        "   1.          1.          1.          1.          1.          1.          1.\n",
        "   1.          1.          1.          1.          1.          1.          1.\n",
        "   1.          1.          1.          1.          1.          1.          1.\n",
        "   1.          1.          1.          1.          1.          1.          1.\n",
        "   1.          1.          1.          1.          1.          1.          1.\n",
        "   1.          1.          1.          1.          1.          1.          1.\n",
        "   1.          1.          1.          1.          1.          1.          1.\n",
        "   1.         -1.         -1.         -1.         -1.         -1.         -1.\n",
        "  -1.         -1.         -1.         -1.         -1.         -1.         -1.\n",
        "  -1.         -1.         -1.         -1.         -1.         -1.         -1.\n",
        "  -1.         -1.         -1.         -1.         -1.         -1.         -1.\n",
        "  -1.         -1.         -1.         -1.         -1.         -1.         -1.\n",
        "  -1.         -1.         -1.         -1.         -1.         -1.         -1.\n",
        "  -1.         -1.         -1.         -1.         -1.         -1.         -1.\n",
        "  -1.         -1.         -1.         -1.         -1.         -1.         -1.\n",
        "  -1.         -1.         -1.         -1.         -1.         -1.         -1.\n",
        "  -1.         -1.         -1.         -1.         -1.         -1.         -1.\n",
        "  -1.         -1.         -1.         -1.         -1.         -1.         -1.\n",
        "  -1.         -1.         -1.         -1.         -1.         -1.         -1.\n",
        "  -1.         -1.         -1.         -1.         -1.         -1.         -1.\n",
        "  -1.         -1.         -1.         -1.         -1.         -1.         -1.\n",
        "  -1.         -1.          1.        ]]\n"
       ]
      },
      {
       "metadata": {},
       "output_type": "display_data",
       "png": "[encoded data removed]",
       "text": [
        "<matplotlib.figure.Figure at 0x38f7310>"
       ]
      }
     ],
     "prompt_number": 4
    },
    {
     "cell_type": "code",
     "collapsed": false,
     "input": [],
     "language": "python",
     "metadata": {},
     "outputs": [],
     "prompt_number": 4
    },
    {
     "cell_type": "code",
     "collapsed": false,
     "input": [
      "def make_mixtures(S):\n",
      "    A = random_nonsingular_matrix(len(S))\n",
      "    X = np.dot(A,S)\n",
      "    return X\n",
      "X = make_mixtures(S)\n",
      "plot_signals(X)\n",
      "\n"
     ],
     "language": "python",
     "metadata": {},
     "outputs": [
      {
       "metadata": {},
       "output_type": "display_data",
       "png": "[encoded data removed]",
       "text": [
        "<matplotlib.figure.Figure at 0x43e8c50>"
       ]
      }
     ],
     "prompt_number": 5
    },
    {
     "cell_type": "code",
     "collapsed": false,
     "input": [
      "def plot_histogram(X , bins = 50):\n",
      "    hist, bins = np.histogram(X ,  bins)\n",
      "    width =  0.9 *(bins[1] - bins[0])\n",
      "    center = (bins[:-1] + bins[1:]) / 2\n",
      "    plt.bar(center, hist, align='center', width=width)\n",
      "    plt.show()\n",
      "    \n",
      "def plot_histograms(X):\n",
      "    for x in X:\n",
      "        plot_histogram(x)\n",
      "##TODO check what happens to X"
     ],
     "language": "python",
     "metadata": {},
     "outputs": [],
     "prompt_number": 6
    },
    {
     "cell_type": "code",
     "collapsed": false,
     "input": [
      "print \"Observation Histograms\"\n",
      "plot_histograms(X)\n",
      "print \"Source Histograms\"\n",
      "plot_histograms(S)"
     ],
     "language": "python",
     "metadata": {},
     "outputs": [
      {
       "output_type": "stream",
       "stream": "stdout",
       "text": [
        "Observation Histograms\n"
       ]
      },
      {
       "metadata": {},
       "output_type": "display_data",
       "png": "[encoded data removed]",
       "text": [
        "<matplotlib.figure.Figure at 0x38f6210>"
       ]
      },
      {
       "metadata": {},
       "output_type": "display_data",
       "png": "[encoded data removed]",
       "text": [
        "<matplotlib.figure.Figure at 0x43ef250>"
       ]
      },
      {
       "output_type": "stream",
       "stream": "stdout",
       "text": [
        "Source Histograms\n"
       ]
      },
      {
       "metadata": {},
       "output_type": "display_data",
       "png": "[encoded data removed]",
       "text": [
        "<matplotlib.figure.Figure at 0x458d050>"
       ]
      },
      {
       "metadata": {},
       "output_type": "display_data",
       "png": "[encoded data removed]",
       "text": [
        "<matplotlib.figure.Figure at 0x459bc10>"
       ]
      }
     ],
     "prompt_number": 7
    },
    {
     "cell_type": "markdown",
     "metadata": {},
     "source": [
      "We see that the measurements histograms tend to look like gaussians. The reason is that the distribution of the measurements is affected by the mixture matrix which is randomly generated. (reason from the book page 79). For the same reason , the fifth source, which is randomly generated, resembles a gaussian distribution. The remaining sources are not "
     ]
    },
    {
     "cell_type": "code",
     "collapsed": false,
     "input": [
      "from functools import partial\n",
      "import math\n",
      "\n",
      "def fi_0(x):\n",
      "    y = []\n",
      "    for i in x:\n",
      "       y += [ 2*math.cosh(i)/(math.cosh(2*i) + 1) ] \n",
      "    \n",
      "    return y\n",
      "\n",
      "def ac_0(x):\n",
      "    y = []\n",
      "    for i in x:\n",
      "       y += [ -math.tanh(i)] \n",
      "    return y \n",
      "\n",
      "def fi_1(x,c = 1):\n",
      "    y = []\n",
      "    for i in x:\n",
      "       y += [ math.exp( -(i**2)/2 ) * math.cosh(i)] \n",
      "    return y\n",
      "\n",
      "def ac_1(x):\n",
      "    y = []\n",
      "    for i in x:\n",
      "       y += [ -i + math.tanh(i) ] \n",
      "    return y\n",
      "\n",
      "def fi_2(x,c = 1):\n",
      "    y = []\n",
      "    for i in x:\n",
      "       y += [ c*math.exp( -(i**4)/4 ) ] \n",
      "    return y\n",
      "\n",
      "def ac_2(x):\n",
      "    y = []\n",
      "    for i in x:\n",
      "       y += [ -i**3 ] \n",
      "    return y\n",
      "\n",
      "def fi_3(x,c = 1):\n",
      "    y = []\n",
      "    for i in x:\n",
      "       y += [ 1/(i**2 + 5)**3 ] \n",
      "    return y\n",
      "\n",
      "def ac_3(x):\n",
      "    y = []\n",
      "    for i in x:\n",
      "       y += [ -(6*i)/(i**2 + 5) ] \n",
      "    return y\n",
      "\n",
      "def plot_function(f,x_min = -3,x_max = 3, signal_length = 100):\n",
      "    x = linspace(x_min, x_max, signal_length)\n",
      "    y = f(x)\n",
      "    plot(x,y)\n",
      "\n",
      "figure(1)\n",
      "subplot(1,2,1)\n",
      "plot_function(ac_0)\n",
      "\n",
      "subplot(1,2,2)\n",
      "plot_function(fi_0)\n",
      "\n",
      "figure(2)\n",
      "subplot(1,2,1)\n",
      "plot_function(ac_1)\n",
      "\n",
      "subplot(1,2,2)\n",
      "plot_function(fi_1)\n",
      "\n",
      "figure(3)\n",
      "subplot(1,2,1)\n",
      "plot_function(ac_2)\n",
      "\n",
      "subplot(1,2,2)\n",
      "plot_function(fi_2)\n",
      "\n",
      "figure(4)\n",
      "subplot(1,2,1)\n",
      "plot_function(ac_3)\n",
      "\n",
      "subplot(1,2,2)\n",
      "plot_function(fi_3)"
     ],
     "language": "python",
     "metadata": {},
     "outputs": [
      {
       "metadata": {},
       "output_type": "display_data",
       "png": "[encoded data removed]",
       "text": [
        "<matplotlib.figure.Figure at 0x48d0d50>"
       ]
      },
      {
       "metadata": {},
       "output_type": "display_data",
       "png": "[encoded data removed]",
       "text": [
        "<matplotlib.figure.Figure at 0x43df610>"
       ]
      },
      {
       "metadata": {},
       "output_type": "display_data",
       "png": "[encoded data removed]",
       "text": [
        "<matplotlib.figure.Figure at 0x4595bd0>"
       ]
      },
      {
       "metadata": {},
       "output_type": "display_data",
       "png": "[encoded data removed]",
       "text": [
        "<matplotlib.figure.Figure at 0x4a701d0>"
       ]
      }
     ],
     "prompt_number": 8
    },
    {
     "cell_type": "code",
     "collapsed": false,
     "input": [
      "\n",
      "def whiten(X): \n",
      "    Xcov = np.cov(X) \n",
      "    d,V = eigh(Xcov) \n",
      "    D = diag(1./sqrt(d+0)) \n",
      "    W = dot(dot(V,D),V.T) \n",
      "    Xwhiten = dot(W,X) \n",
      "    return Xwhiten"
     ],
     "language": "python",
     "metadata": {},
     "outputs": [],
     "prompt_number": 9
    },
    {
     "cell_type": "code",
     "collapsed": false,
     "input": [
      "wX = whiten(X)"
     ],
     "language": "python",
     "metadata": {},
     "outputs": [],
     "prompt_number": 10
    },
    {
     "cell_type": "code",
     "collapsed": false,
     "input": [
      "print np.cov(X)\n",
      "print np.cov(wX)"
     ],
     "language": "python",
     "metadata": {},
     "outputs": [
      {
       "output_type": "stream",
       "stream": "stdout",
       "text": [
        "[[ 1.47002737  1.01143497]\n",
        " [ 1.01143497  0.77044131]]\n",
        "[[  1.00000000e+00  -8.29285427e-15]\n",
        " [ -8.29285427e-15   1.00000000e+00]]\n"
       ]
      }
     ],
     "prompt_number": 11
    },
    {
     "cell_type": "code",
     "collapsed": false,
     "input": [
      "def scatter_plot_mat(M,C,V):\n",
      "    figure()\n",
      "    k = 1;\n",
      "    for i in range(0,3):\n",
      "        for j in range(i+1,4):\n",
      "            subplot(10,3,k)\n",
      "            scatter(M[i],M[j],s=0.1)\n",
      "            subplot(10,3,k+1)\n",
      "            scatter(C[i],C[j],s=0.1)\n",
      "            subplot(10,3,k+2)\n",
      "            scatter(V[i],V[j],s=0.1)\n",
      "            k += 3\n",
      "            \n",
      "    "
     ],
     "language": "python",
     "metadata": {},
     "outputs": [],
     "prompt_number": 12
    },
    {
     "cell_type": "code",
     "collapsed": false,
     "input": [
      "rcParams['figure.figsize'] = 16, 48\n",
      "scatter_plot_mat(S,X,wX)\n",
      "\n",
      "\n",
      " "
     ],
     "language": "python",
     "metadata": {},
     "outputs": [
      {
       "ename": "IndexError",
       "evalue": "index out of bounds",
       "output_type": "pyerr",
       "traceback": [
        "\u001b[1;31m---------------------------------------------------------------------------\u001b[0m\n\u001b[1;31mIndexError\u001b[0m                                Traceback (most recent call last)",
        "\u001b[1;32m<ipython-input-14-804390f84af0>\u001b[0m in \u001b[0;36m<module>\u001b[1;34m()\u001b[0m\n\u001b[0;32m      1\u001b[0m \u001b[0mrcParams\u001b[0m\u001b[1;33m[\u001b[0m\u001b[1;34m'figure.figsize'\u001b[0m\u001b[1;33m]\u001b[0m \u001b[1;33m=\u001b[0m \u001b[1;36m16\u001b[0m\u001b[1;33m,\u001b[0m \u001b[1;36m48\u001b[0m\u001b[1;33m\u001b[0m\u001b[0m\n\u001b[1;32m----> 2\u001b[1;33m \u001b[0mscatter_plot_mat\u001b[0m\u001b[1;33m(\u001b[0m\u001b[0mS\u001b[0m\u001b[1;33m,\u001b[0m\u001b[0mX\u001b[0m\u001b[1;33m,\u001b[0m\u001b[0mwX\u001b[0m\u001b[1;33m)\u001b[0m\u001b[1;33m\u001b[0m\u001b[0m\n\u001b[0m\u001b[0;32m      3\u001b[0m \u001b[1;33m\u001b[0m\u001b[0m\n\u001b[0;32m      4\u001b[0m \u001b[1;33m\u001b[0m\u001b[0m\n\u001b[0;32m      5\u001b[0m \u001b[1;33m\u001b[0m\u001b[0m\n",
        "\u001b[1;32m<ipython-input-12-8f4c56564215>\u001b[0m in \u001b[0;36mscatter_plot_mat\u001b[1;34m(M, C, V)\u001b[0m\n\u001b[0;32m      5\u001b[0m         \u001b[1;32mfor\u001b[0m \u001b[0mj\u001b[0m \u001b[1;32min\u001b[0m \u001b[0mrange\u001b[0m\u001b[1;33m(\u001b[0m\u001b[0mi\u001b[0m\u001b[1;33m+\u001b[0m\u001b[1;36m1\u001b[0m\u001b[1;33m,\u001b[0m\u001b[1;36m4\u001b[0m\u001b[1;33m)\u001b[0m\u001b[1;33m:\u001b[0m\u001b[1;33m\u001b[0m\u001b[0m\n\u001b[0;32m      6\u001b[0m             \u001b[0msubplot\u001b[0m\u001b[1;33m(\u001b[0m\u001b[1;36m10\u001b[0m\u001b[1;33m,\u001b[0m\u001b[1;36m3\u001b[0m\u001b[1;33m,\u001b[0m\u001b[0mk\u001b[0m\u001b[1;33m)\u001b[0m\u001b[1;33m\u001b[0m\u001b[0m\n\u001b[1;32m----> 7\u001b[1;33m             \u001b[0mscatter\u001b[0m\u001b[1;33m(\u001b[0m\u001b[0mM\u001b[0m\u001b[1;33m[\u001b[0m\u001b[0mi\u001b[0m\u001b[1;33m]\u001b[0m\u001b[1;33m,\u001b[0m\u001b[0mM\u001b[0m\u001b[1;33m[\u001b[0m\u001b[0mj\u001b[0m\u001b[1;33m]\u001b[0m\u001b[1;33m,\u001b[0m\u001b[0ms\u001b[0m\u001b[1;33m=\u001b[0m\u001b[1;36m0.1\u001b[0m\u001b[1;33m)\u001b[0m\u001b[1;33m\u001b[0m\u001b[0m\n\u001b[0m\u001b[0;32m      8\u001b[0m             \u001b[0msubplot\u001b[0m\u001b[1;33m(\u001b[0m\u001b[1;36m10\u001b[0m\u001b[1;33m,\u001b[0m\u001b[1;36m3\u001b[0m\u001b[1;33m,\u001b[0m\u001b[0mk\u001b[0m\u001b[1;33m+\u001b[0m\u001b[1;36m1\u001b[0m\u001b[1;33m)\u001b[0m\u001b[1;33m\u001b[0m\u001b[0m\n\u001b[0;32m      9\u001b[0m             \u001b[0mscatter\u001b[0m\u001b[1;33m(\u001b[0m\u001b[0mC\u001b[0m\u001b[1;33m[\u001b[0m\u001b[0mi\u001b[0m\u001b[1;33m]\u001b[0m\u001b[1;33m,\u001b[0m\u001b[0mC\u001b[0m\u001b[1;33m[\u001b[0m\u001b[0mj\u001b[0m\u001b[1;33m]\u001b[0m\u001b[1;33m,\u001b[0m\u001b[0ms\u001b[0m\u001b[1;33m=\u001b[0m\u001b[1;36m0.1\u001b[0m\u001b[1;33m)\u001b[0m\u001b[1;33m\u001b[0m\u001b[0m\n",
        "\u001b[1;31mIndexError\u001b[0m: index out of bounds"
       ]
      },
      {
       "metadata": {},
       "output_type": "display_data",
       "png": "[encoded data removed]",
       "text": [
        "<matplotlib.figure.Figure at 0x456a150>"
       ]
      }
     ],
     "prompt_number": 14
    },
    {
     "cell_type": "code",
     "collapsed": false,
     "input": [
      "rcParams['figure.figsize'] = 15, 5\n",
      "subplot(1,3,1)\n",
      "imshow(np.cov(S), cmap='gray', interpolation='nearest')\n",
      "subplot(1,3,2)\n",
      "imshow(np.cov(X), cmap='gray', interpolation='nearest')\n",
      "subplot(1,3,3)\n",
      "imshow(np.cov(wX), cmap='gray', interpolation='nearest')"
     ],
     "language": "python",
     "metadata": {},
     "outputs": [
      {
       "metadata": {},
       "output_type": "pyout",
       "prompt_number": 12,
       "text": [
        "<matplotlib.image.AxesImage at 0x45a9ad0>"
       ]
      },
      {
       "metadata": {},
       "output_type": "display_data",
       "png": "[encoded data removed]",
       "text": [
        "<matplotlib.figure.Figure at 0x42d1410>"
       ]
      }
     ],
     "prompt_number": 12
    },
    {
     "cell_type": "code",
     "collapsed": false,
     "input": [
      "a0 = lambda x : -tanh(x)\n",
      "a1 = lambda x : -x + tanh(x)\n",
      "a2 = lambda x : -power(x,3)\n",
      "a3 = lambda x : -(6*x)/(power(x,2) + 5)\n",
      "a4 = lambda x : -2*x\n",
      "\n",
      "def ICA(X, activation_function, learning_rate = 1.0 , threshold = 0.5 , print_interval = 2000):\n",
      "    \n",
      "    #Algorithm Variables\n",
      "    N = X.shape[1]                           # Size of Observation Set.\n",
      "    I = X.shape[0]                           # Size of each observation vector x.\n",
      "    W = random_nonsingular_matrix(I)         # Starting Weight matrix.\n",
      "    average_dW = zeros((I,I))                # Natural Gradient average\n",
      "    \n",
      "    #Helper Variables\n",
      "    iterations = 0;\n",
      "    threshold_check = 100;\n",
      "    \n",
      "    while threshold_check > threshold:\n",
      "        \n",
      "        # While the average dW is more than a set threshold do:\n",
      "        ################################################################################################\n",
      "        a = dot(W,X)                              # Put x through a linear mapping\n",
      "        z = activation_function(a)                # Put a through a nonlinear map:\n",
      "        xp = dot(W.T,a)                           # Put a back through W\n",
      "        average_dW = (N*W + dot(z,xp.T)) / N      # Calculate the average gradient for the whole dataset\n",
      "        W += learning_rate*average_dW             # Adjust the weight table W\n",
      "        ################################################################################################\n",
      "        \n",
      "        # Recalculate threshold and print at a set interval.\n",
      "        iterations +=1\n",
      "        threshold_check = sum(np.absolute(average_dW))\n",
      "        if iterations%print_interval == 0 : print iterations, threshold_check\n",
      "            \n",
      "    return W\n",
      "\n",
      "def onlineICA(X, activation_function, learning_rate = 1.0 , iterations = 1):\n",
      "    # Algorithm Variables\n",
      "    N = X.shape[1]                           # Size of Observation Set.\n",
      "    I = X.shape[0]                           # Size of each observation vector x.\n",
      "    W = random_nonsingular_matrix(I)         # Starting Weight matrix.\n",
      "    dW = zeros((I,I))                        # Natural Gradient average\n",
      "    \n",
      "    # Helper variables\n",
      "    count = 1.0\n",
      "    check = 1;\n",
      "    for m in range(iterations):\n",
      "        for x in X.T:\n",
      "            a = dot(W,x)\n",
      "            z = activation_function(a)\n",
      "            xp = dot(W.T,a)\n",
      "            for i in range(W.shape[0]):\n",
      "                for j in range(W.shape[0]):\n",
      "                    dW[i][j] = W[i][j] + xp[j]*z[i]\n",
      "            W = W + learning_rate*dW\n",
      "    \n",
      "    return W"
     ],
     "language": "python",
     "metadata": {},
     "outputs": [],
     "prompt_number": 16
    },
    {
     "cell_type": "code",
     "collapsed": false,
     "input": [],
     "language": "python",
     "metadata": {},
     "outputs": [],
     "prompt_number": 16
    },
    {
     "cell_type": "code",
     "collapsed": false,
     "input": [
      "import scipy.io.wavfile\n",
      "def save_wav(data, out_file, rate):\n",
      "    scaled = np.int16(data / np.max(np.abs(data)) * 32767)\n",
      "    scipy.io.wavfile.write(out_file, rate, scaled)"
     ],
     "language": "python",
     "metadata": {},
     "outputs": [],
     "prompt_number": 17
    },
    {
     "cell_type": "code",
     "collapsed": false,
     "input": [
      "# Load audio sources\n",
      "source_files = ['beet.wav', 'beet9.wav', 'beet92.wav', 'mike.wav', 'street.wav']\n",
      "wav_data = []\n",
      "sample_rate = None\n",
      "for f in source_files:\n",
      "    sr, data = scipy.io.wavfile.read(f)\n",
      "    if sample_rate is None:\n",
      "        sample_rate = sr\n",
      "    else:\n",
      "        assert(sample_rate == sr)\n",
      "    wav_data.append(data[:190000])  # cut off the last part so that all signals have same length\n",
      "\n",
      "# Create source and measurement data\n",
      "S = np.c_[wav_data]\n",
      "\n",
      "\n"
     ],
     "language": "python",
     "metadata": {},
     "outputs": [],
     "prompt_number": 21
    },
    {
     "cell_type": "code",
     "collapsed": false,
     "input": [
      "# Requires your function make_mixtures\n",
      "X = make_mixtures(S)\n",
      "# Save mixtures to disk, so you can listen to them in your audio player\n",
      "for i in range(X.shape[0]):\n",
      "   save_wav(X[i, :], 'X' + str(i) + '.wav', sample_rate)"
     ],
     "language": "python",
     "metadata": {},
     "outputs": [],
     "prompt_number": 23
    },
    {
     "cell_type": "code",
     "collapsed": false,
     "input": [
      "wX = whiten(X)"
     ],
     "language": "python",
     "metadata": {},
     "outputs": [],
     "prompt_number": 24
    },
    {
     "cell_type": "code",
     "collapsed": false,
     "input": [
      "W = ICA(wX,a0,0.9,0.1,20)\n",
      "a = dot(W,wX)\n",
      "rcParams['figure.figsize'] = 10, 5\n",
      "plot_signals(a)\n",
      "for i in range(a.shape[0]):\n",
      "   save_wav(a[i, :], 'A' + str(i) + '.wav', sample_rate)"
     ],
     "language": "python",
     "metadata": {},
     "outputs": [
      {
       "output_type": "stream",
       "stream": "stdout",
       "text": [
        "20 1.30074329972\n",
        "40"
       ]
      },
      {
       "output_type": "stream",
       "stream": "stdout",
       "text": [
        " 2.23629951901\n",
        "60"
       ]
      },
      {
       "output_type": "stream",
       "stream": "stdout",
       "text": [
        " 2.37167180468\n",
        "80"
       ]
      },
      {
       "output_type": "stream",
       "stream": "stdout",
       "text": [
        " 2.61810423716\n",
        "100"
       ]
      },
      {
       "output_type": "stream",
       "stream": "stdout",
       "text": [
        " 2.84956717667\n",
        "120"
       ]
      },
      {
       "output_type": "stream",
       "stream": "stdout",
       "text": [
        " 2.93402407736\n",
        "140"
       ]
      },
      {
       "output_type": "stream",
       "stream": "stdout",
       "text": [
        " 2.94676226863\n",
        "160"
       ]
      },
      {
       "output_type": "stream",
       "stream": "stdout",
       "text": [
        " 2.94556177838\n",
        "180"
       ]
      },
      {
       "output_type": "stream",
       "stream": "stdout",
       "text": [
        " 2.94287744807\n",
        "200"
       ]
      },
      {
       "output_type": "stream",
       "stream": "stdout",
       "text": [
        " 2.94056564934\n",
        "220"
       ]
      },
      {
       "output_type": "stream",
       "stream": "stdout",
       "text": [
        " 2.93877462601\n",
        "240"
       ]
      },
      {
       "output_type": "stream",
       "stream": "stdout",
       "text": [
        " 2.93741798393\n",
        "260"
       ]
      },
      {
       "output_type": "stream",
       "stream": "stdout",
       "text": [
        " 2.93639738247\n",
        "280"
       ]
      },
      {
       "output_type": "stream",
       "stream": "stdout",
       "text": [
        " 2.93563203635\n",
        "300"
       ]
      },
      {
       "output_type": "stream",
       "stream": "stdout",
       "text": [
        " 2.93505926366\n",
        "320"
       ]
      },
      {
       "output_type": "stream",
       "stream": "stdout",
       "text": [
        " 2.93463122525\n",
        "340"
       ]
      },
      {
       "output_type": "stream",
       "stream": "stdout",
       "text": [
        " 2.93431168601\n",
        "360"
       ]
      },
      {
       "output_type": "stream",
       "stream": "stdout",
       "text": [
        " 2.93407333042\n",
        "380"
       ]
      },
      {
       "output_type": "stream",
       "stream": "stdout",
       "text": [
        " 2.93389563596\n",
        "400"
       ]
      },
      {
       "output_type": "stream",
       "stream": "stdout",
       "text": [
        " 2.93376322167\n",
        "420"
       ]
      },
      {
       "output_type": "stream",
       "stream": "stdout",
       "text": [
        " 2.93366458089\n",
        "440"
       ]
      },
      {
       "output_type": "stream",
       "stream": "stdout",
       "text": [
        " 2.93359111686\n",
        "460"
       ]
      },
      {
       "output_type": "stream",
       "stream": "stdout",
       "text": [
        " 2.93353641325\n",
        "480"
       ]
      },
      {
       "output_type": "stream",
       "stream": "stdout",
       "text": [
        " 2.93349568457\n",
        "500"
       ]
      },
      {
       "output_type": "stream",
       "stream": "stdout",
       "text": [
        " 2.93346536368\n",
        "520"
       ]
      },
      {
       "output_type": "stream",
       "stream": "stdout",
       "text": [
        " 2.93344279262\n",
        "540"
       ]
      },
      {
       "output_type": "stream",
       "stream": "stdout",
       "text": [
        " 2.93342599147\n",
        "560"
       ]
      },
      {
       "output_type": "stream",
       "stream": "stdout",
       "text": [
        " 2.93341348578\n",
        "580"
       ]
      },
      {
       "output_type": "stream",
       "stream": "stdout",
       "text": [
        " 2.93340417761\n",
        "600"
       ]
      },
      {
       "output_type": "stream",
       "stream": "stdout",
       "text": [
        " 2.93339724956\n",
        "620"
       ]
      },
      {
       "output_type": "stream",
       "stream": "stdout",
       "text": [
        " 2.93339209312\n",
        "640"
       ]
      },
      {
       "output_type": "stream",
       "stream": "stdout",
       "text": [
        " 2.93338825531\n",
        "660"
       ]
      },
      {
       "output_type": "stream",
       "stream": "stdout",
       "text": [
        " 2.93338539894\n",
        "680"
       ]
      },
      {
       "output_type": "stream",
       "stream": "stdout",
       "text": [
        " 2.93338327305\n",
        "700"
       ]
      },
      {
       "output_type": "stream",
       "stream": "stdout",
       "text": [
        " 2.93338169083\n",
        "720"
       ]
      },
      {
       "output_type": "stream",
       "stream": "stdout",
       "text": [
        " 2.93338051326\n",
        "740"
       ]
      },
      {
       "output_type": "stream",
       "stream": "stdout",
       "text": [
        " 2.93337963684\n",
        "760"
       ]
      },
      {
       "output_type": "stream",
       "stream": "stdout",
       "text": [
        " 2.93337898456\n",
        "780"
       ]
      },
      {
       "output_type": "stream",
       "stream": "stdout",
       "text": [
        " 2.93337849911\n",
        "800"
       ]
      },
      {
       "output_type": "stream",
       "stream": "stdout",
       "text": [
        " 2.9333781378\n",
        "820"
       ]
      },
      {
       "output_type": "stream",
       "stream": "stdout",
       "text": [
        " 2.9333778689\n",
        "840"
       ]
      },
      {
       "output_type": "stream",
       "stream": "stdout",
       "text": [
        " 2.93337766877\n",
        "860"
       ]
      },
      {
       "output_type": "stream",
       "stream": "stdout",
       "text": [
        " 2.93337751983\n",
        "880"
       ]
      },
      {
       "output_type": "stream",
       "stream": "stdout",
       "text": [
        " 2.93337740897\n",
        "900"
       ]
      },
      {
       "output_type": "stream",
       "stream": "stdout",
       "text": [
        " 2.93337732647\n",
        "920"
       ]
      },
      {
       "output_type": "stream",
       "stream": "stdout",
       "text": [
        " 2.93337726507\n",
        "940"
       ]
      },
      {
       "output_type": "stream",
       "stream": "stdout",
       "text": [
        " 2.93337721937\n",
        "960"
       ]
      },
      {
       "output_type": "stream",
       "stream": "stdout",
       "text": [
        " 2.93337718536\n",
        "980"
       ]
      },
      {
       "output_type": "stream",
       "stream": "stdout",
       "text": [
        " 2.93337716004\n",
        "1000"
       ]
      },
      {
       "output_type": "stream",
       "stream": "stdout",
       "text": [
        " 2.93337714121\n",
        "1020"
       ]
      },
      {
       "output_type": "stream",
       "stream": "stdout",
       "text": [
        " 2.93337712718\n",
        "1040"
       ]
      },
      {
       "output_type": "stream",
       "stream": "stdout",
       "text": [
        " 2.93337711675\n",
        "1060"
       ]
      },
      {
       "output_type": "stream",
       "stream": "stdout",
       "text": [
        " 2.93337710898\n",
        "1080"
       ]
      },
      {
       "output_type": "stream",
       "stream": "stdout",
       "text": [
        " 2.9333771032\n",
        "1100"
       ]
      },
      {
       "output_type": "stream",
       "stream": "stdout",
       "text": [
        " 2.9333770989\n",
        "1120"
       ]
      },
      {
       "output_type": "stream",
       "stream": "stdout",
       "text": [
        " 2.9333770957\n",
        "1140"
       ]
      },
      {
       "output_type": "stream",
       "stream": "stdout",
       "text": [
        " 2.93337709332\n",
        "1160"
       ]
      },
      {
       "output_type": "stream",
       "stream": "stdout",
       "text": [
        " 2.93337709154\n",
        "1180"
       ]
      },
      {
       "output_type": "stream",
       "stream": "stdout",
       "text": [
        " 2.93337709022\n",
        "1200"
       ]
      },
      {
       "output_type": "stream",
       "stream": "stdout",
       "text": [
        " 2.93337708924\n",
        "1220"
       ]
      },
      {
       "ename": "KeyboardInterrupt",
       "evalue": "",
       "output_type": "pyerr",
       "traceback": [
        "\u001b[1;31m---------------------------------------------------------------------------\u001b[0m\n\u001b[1;31mKeyboardInterrupt\u001b[0m                         Traceback (most recent call last)",
        "\u001b[1;32m<ipython-input-26-079fa0f7e149>\u001b[0m in \u001b[0;36m<module>\u001b[1;34m()\u001b[0m\n\u001b[1;32m----> 1\u001b[1;33m \u001b[0mW\u001b[0m \u001b[1;33m=\u001b[0m \u001b[0mICA\u001b[0m\u001b[1;33m(\u001b[0m\u001b[0mwX\u001b[0m\u001b[1;33m,\u001b[0m\u001b[0ma0\u001b[0m\u001b[1;33m,\u001b[0m\u001b[1;36m0.9\u001b[0m\u001b[1;33m,\u001b[0m\u001b[1;36m0.1\u001b[0m\u001b[1;33m,\u001b[0m\u001b[1;36m20\u001b[0m\u001b[1;33m)\u001b[0m\u001b[1;33m\u001b[0m\u001b[0m\n\u001b[0m\u001b[0;32m      2\u001b[0m \u001b[0ma\u001b[0m \u001b[1;33m=\u001b[0m \u001b[0mdot\u001b[0m\u001b[1;33m(\u001b[0m\u001b[0mW\u001b[0m\u001b[1;33m,\u001b[0m\u001b[0mwX\u001b[0m\u001b[1;33m)\u001b[0m\u001b[1;33m\u001b[0m\u001b[0m\n\u001b[0;32m      3\u001b[0m \u001b[0mrcParams\u001b[0m\u001b[1;33m[\u001b[0m\u001b[1;34m'figure.figsize'\u001b[0m\u001b[1;33m]\u001b[0m \u001b[1;33m=\u001b[0m \u001b[1;36m10\u001b[0m\u001b[1;33m,\u001b[0m \u001b[1;36m5\u001b[0m\u001b[1;33m\u001b[0m\u001b[0m\n\u001b[0;32m      4\u001b[0m \u001b[0mplot_signals\u001b[0m\u001b[1;33m(\u001b[0m\u001b[0ma\u001b[0m\u001b[1;33m)\u001b[0m\u001b[1;33m\u001b[0m\u001b[0m\n\u001b[0;32m      5\u001b[0m \u001b[1;32mfor\u001b[0m \u001b[0mi\u001b[0m \u001b[1;32min\u001b[0m \u001b[0mrange\u001b[0m\u001b[1;33m(\u001b[0m\u001b[0ma\u001b[0m\u001b[1;33m.\u001b[0m\u001b[0mshape\u001b[0m\u001b[1;33m[\u001b[0m\u001b[1;36m0\u001b[0m\u001b[1;33m]\u001b[0m\u001b[1;33m)\u001b[0m\u001b[1;33m:\u001b[0m\u001b[1;33m\u001b[0m\u001b[0m\n",
        "\u001b[1;32m<ipython-input-16-0b82df84c6ac>\u001b[0m in \u001b[0;36mICA\u001b[1;34m(X, activation_function, learning_rate, threshold, print_interval)\u001b[0m\n\u001b[0;32m     22\u001b[0m         \u001b[1;31m################################################################################################\u001b[0m\u001b[1;33m\u001b[0m\u001b[1;33m\u001b[0m\u001b[0m\n\u001b[0;32m     23\u001b[0m         \u001b[0ma\u001b[0m \u001b[1;33m=\u001b[0m \u001b[0mdot\u001b[0m\u001b[1;33m(\u001b[0m\u001b[0mW\u001b[0m\u001b[1;33m,\u001b[0m\u001b[0mX\u001b[0m\u001b[1;33m)\u001b[0m                              \u001b[1;31m# Put x through a linear mapping\u001b[0m\u001b[1;33m\u001b[0m\u001b[0m\n\u001b[1;32m---> 24\u001b[1;33m         \u001b[0mz\u001b[0m \u001b[1;33m=\u001b[0m \u001b[0mactivation_function\u001b[0m\u001b[1;33m(\u001b[0m\u001b[0ma\u001b[0m\u001b[1;33m)\u001b[0m                \u001b[1;31m# Put a through a nonlinear map:\u001b[0m\u001b[1;33m\u001b[0m\u001b[0m\n\u001b[0m\u001b[0;32m     25\u001b[0m         \u001b[0mxp\u001b[0m \u001b[1;33m=\u001b[0m \u001b[0mdot\u001b[0m\u001b[1;33m(\u001b[0m\u001b[0mW\u001b[0m\u001b[1;33m.\u001b[0m\u001b[0mT\u001b[0m\u001b[1;33m,\u001b[0m\u001b[0ma\u001b[0m\u001b[1;33m)\u001b[0m                           \u001b[1;31m# Put a back through W\u001b[0m\u001b[1;33m\u001b[0m\u001b[0m\n\u001b[0;32m     26\u001b[0m         \u001b[0maverage_dW\u001b[0m \u001b[1;33m=\u001b[0m \u001b[1;33m(\u001b[0m\u001b[0mN\u001b[0m\u001b[1;33m*\u001b[0m\u001b[0mW\u001b[0m \u001b[1;33m+\u001b[0m \u001b[0mdot\u001b[0m\u001b[1;33m(\u001b[0m\u001b[0mz\u001b[0m\u001b[1;33m,\u001b[0m\u001b[0mxp\u001b[0m\u001b[1;33m.\u001b[0m\u001b[0mT\u001b[0m\u001b[1;33m)\u001b[0m\u001b[1;33m)\u001b[0m \u001b[1;33m/\u001b[0m \u001b[0mN\u001b[0m      \u001b[1;31m# Calculate the average gradient for the whole dataset\u001b[0m\u001b[1;33m\u001b[0m\u001b[0m\n",
        "\u001b[1;32m<ipython-input-16-0b82df84c6ac>\u001b[0m in \u001b[0;36m<lambda>\u001b[1;34m(x)\u001b[0m\n\u001b[1;32m----> 1\u001b[1;33m \u001b[0ma0\u001b[0m \u001b[1;33m=\u001b[0m \u001b[1;32mlambda\u001b[0m \u001b[0mx\u001b[0m \u001b[1;33m:\u001b[0m \u001b[1;33m-\u001b[0m\u001b[0mtanh\u001b[0m\u001b[1;33m(\u001b[0m\u001b[0mx\u001b[0m\u001b[1;33m)\u001b[0m\u001b[1;33m\u001b[0m\u001b[0m\n\u001b[0m\u001b[0;32m      2\u001b[0m \u001b[0ma1\u001b[0m \u001b[1;33m=\u001b[0m \u001b[1;32mlambda\u001b[0m \u001b[0mx\u001b[0m \u001b[1;33m:\u001b[0m \u001b[1;33m-\u001b[0m\u001b[0mx\u001b[0m \u001b[1;33m+\u001b[0m \u001b[0mtanh\u001b[0m\u001b[1;33m(\u001b[0m\u001b[0mx\u001b[0m\u001b[1;33m)\u001b[0m\u001b[1;33m\u001b[0m\u001b[0m\n\u001b[0;32m      3\u001b[0m \u001b[0ma2\u001b[0m \u001b[1;33m=\u001b[0m \u001b[1;32mlambda\u001b[0m \u001b[0mx\u001b[0m \u001b[1;33m:\u001b[0m \u001b[1;33m-\u001b[0m\u001b[0mpower\u001b[0m\u001b[1;33m(\u001b[0m\u001b[0mx\u001b[0m\u001b[1;33m,\u001b[0m\u001b[1;36m3\u001b[0m\u001b[1;33m)\u001b[0m\u001b[1;33m\u001b[0m\u001b[0m\n\u001b[0;32m      4\u001b[0m \u001b[0ma3\u001b[0m \u001b[1;33m=\u001b[0m \u001b[1;32mlambda\u001b[0m \u001b[0mx\u001b[0m \u001b[1;33m:\u001b[0m \u001b[1;33m-\u001b[0m\u001b[1;33m(\u001b[0m\u001b[1;36m6\u001b[0m\u001b[1;33m*\u001b[0m\u001b[0mx\u001b[0m\u001b[1;33m)\u001b[0m\u001b[1;33m/\u001b[0m\u001b[1;33m(\u001b[0m\u001b[0mpower\u001b[0m\u001b[1;33m(\u001b[0m\u001b[0mx\u001b[0m\u001b[1;33m,\u001b[0m\u001b[1;36m2\u001b[0m\u001b[1;33m)\u001b[0m \u001b[1;33m+\u001b[0m \u001b[1;36m5\u001b[0m\u001b[1;33m)\u001b[0m\u001b[1;33m\u001b[0m\u001b[0m\n\u001b[0;32m      5\u001b[0m \u001b[0ma4\u001b[0m \u001b[1;33m=\u001b[0m \u001b[1;32mlambda\u001b[0m \u001b[0mx\u001b[0m \u001b[1;33m:\u001b[0m \u001b[1;33m-\u001b[0m\u001b[1;36m2\u001b[0m\u001b[1;33m*\u001b[0m\u001b[0mx\u001b[0m\u001b[1;33m\u001b[0m\u001b[0m\n",
        "\u001b[1;31mKeyboardInterrupt\u001b[0m: "
       ]
      },
      {
       "output_type": "stream",
       "stream": "stdout",
       "text": [
        " 2.93337708851\n"
       ]
      }
     ],
     "prompt_number": 26
    },
    {
     "cell_type": "code",
     "collapsed": false,
     "input": [
      "functions ={}\n",
      "functions['a0'] = lambda x : -tanh(x)\n",
      "functions['a1'] = lambda x : -x + tanh(x)\n",
      "functions['a2'] = lambda x : -power(x,3)\n",
      "functions['a3'] = lambda x : -(6*x)/(power(x,2) + 5)\n",
      "\n",
      "functions['f0'] = lambda x : 1/cosh(x)\n",
      "functions['f1'] = lambda x : exp( -(x**2)/2 ) * cosh(x)\n",
      "functions['f2'] = lambda x : exp( -(x**4)/4 ) \n",
      "functions['f3'] = lambda x : 1/(x**2 + 5)**3\n",
      "import scipy.integrate as inte\n",
      "inte.quad(functions['f1'],-numpy.inf,numpy.inf)"
     ],
     "language": "python",
     "metadata": {},
     "outputs": [
      {
       "output_type": "stream",
       "stream": "stdout",
       "text": [
        "Warning: The ocurrence of roundoff error is detected, which prevents \n",
        "  the requested tolerance from being achieved.  The error may be \n",
        "  underestimated.\n"
       ]
      },
      {
       "metadata": {},
       "output_type": "pyout",
       "prompt_number": 46,
       "text": [
        "(nan, nan)"
       ]
      }
     ],
     "prompt_number": 46
    },
    {
     "cell_type": "code",
     "collapsed": false,
     "input": [],
     "language": "python",
     "metadata": {},
     "outputs": [],
     "prompt_number": 86
    },
    {
     "cell_type": "code",
     "collapsed": false,
     "input": [],
     "language": "python",
     "metadata": {},
     "outputs": [],
     "prompt_number": 86
    },
    {
     "cell_type": "code",
     "collapsed": false,
     "input": [],
     "language": "python",
     "metadata": {},
     "outputs": []
    }
   ],
   "metadata": {}
  }
 ]
}